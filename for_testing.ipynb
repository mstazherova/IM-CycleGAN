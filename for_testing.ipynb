{
 "cells": [
  {
   "cell_type": "code",
   "execution_count": 1,
   "metadata": {
    "ExecuteTime": {
     "end_time": "2018-10-25T13:35:00.589659Z",
     "start_time": "2018-10-25T13:34:58.698811Z"
    }
   },
   "outputs": [],
   "source": [
    "import tensorflow as tf\n",
    "from images import Images"
   ]
  },
  {
   "cell_type": "code",
   "execution_count": 2,
   "metadata": {
    "ExecuteTime": {
     "end_time": "2018-10-25T13:35:00.704584Z",
     "start_time": "2018-10-25T13:35:00.592251Z"
    }
   },
   "outputs": [
    {
     "name": "stdout",
     "output_type": "stream",
     "text": [
      "1067\n",
      "1334\n",
      "120\n",
      "140\n"
     ]
    }
   ],
   "source": [
    "DATA_PATH = 'data/horse2zebra/'\n",
    "\n",
    "train_A = Images(DATA_PATH + '_trainA.tfrecords', name='trainA')\n",
    "train_B = Images(DATA_PATH + '_trainB.tfrecords', name='trainB')\n",
    "test_A = Images(DATA_PATH + '_testA.tfrecords', name='test_a')\n",
    "test_B = Images(DATA_PATH + '_testB.tfrecords', name='test_b')\n",
    "\n",
    "print(train_A.count())\n",
    "print(train_B.count())\n",
    "print(test_A.count())\n",
    "print(test_B.count())"
   ]
  },
  {
   "cell_type": "code",
   "execution_count": 3,
   "metadata": {
    "ExecuteTime": {
     "end_time": "2018-10-25T13:35:02.564276Z",
     "start_time": "2018-10-25T13:35:00.708352Z"
    }
   },
   "outputs": [
    {
     "name": "stdout",
     "output_type": "stream",
     "text": [
      "\n",
      "Checking dataset ...\n",
      "\n"
     ]
    },
    {
     "data": {
      "text/plain": [
       "1067"
      ]
     },
     "execution_count": 3,
     "metadata": {},
     "output_type": "execute_result"
    }
   ],
   "source": [
    "init_op_a, next_el_a = train_A.feed()\n",
    "train_A.check_dataset(init_op_a, next_el_a)"
   ]
  },
  {
   "cell_type": "code",
   "execution_count": 4,
   "metadata": {
    "ExecuteTime": {
     "end_time": "2018-10-25T13:35:52.019995Z",
     "start_time": "2018-10-25T13:35:49.800905Z"
    }
   },
   "outputs": [
    {
     "name": "stdout",
     "output_type": "stream",
     "text": [
      "\n",
      "Checking dataset ...\n",
      "\n"
     ]
    },
    {
     "data": {
      "text/plain": [
       "1334"
      ]
     },
     "execution_count": 4,
     "metadata": {},
     "output_type": "execute_result"
    }
   ],
   "source": [
    "init_op_b, next_el_b = train_B.feed()\n",
    "train_B.check_dataset(init_op_b, next_el_b)"
   ]
  },
  {
   "cell_type": "code",
   "execution_count": null,
   "metadata": {},
   "outputs": [],
   "source": []
  }
 ],
 "metadata": {
  "kernelspec": {
   "display_name": "Python 3",
   "language": "python",
   "name": "python3"
  },
  "language_info": {
   "codemirror_mode": {
    "name": "ipython",
    "version": 3
   },
   "file_extension": ".py",
   "mimetype": "text/x-python",
   "name": "python",
   "nbconvert_exporter": "python",
   "pygments_lexer": "ipython3",
   "version": "3.6.6"
  }
 },
 "nbformat": 4,
 "nbformat_minor": 2
}
