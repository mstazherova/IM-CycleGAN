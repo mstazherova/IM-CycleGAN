{
 "cells": [
  {
   "cell_type": "code",
   "execution_count": 7,
   "metadata": {
    "ExecuteTime": {
     "end_time": "2018-12-29T23:23:57.174882Z",
     "start_time": "2018-12-29T23:23:57.120418Z"
    }
   },
   "outputs": [],
   "source": [
    "%load_ext autoreload\n",
    "%autoreload 2\n",
    "import tensorflow as tf\n",
    "import time\n",
    "from images import Images"
   ]
  },
  {
   "cell_type": "code",
   "execution_count": 2,
   "metadata": {
    "ExecuteTime": {
     "end_time": "2018-12-29T23:18:40.669193Z",
     "start_time": "2018-12-29T23:18:40.659057Z"
    }
   },
   "outputs": [],
   "source": [
    "start = time.perf_counter()"
   ]
  },
  {
   "cell_type": "code",
   "execution_count": 3,
   "metadata": {
    "ExecuteTime": {
     "end_time": "2018-12-29T23:18:41.610793Z",
     "start_time": "2018-12-29T23:18:41.404192Z"
    }
   },
   "outputs": [
    {
     "name": "stdout",
     "output_type": "stream",
     "text": [
      "1067\n",
      "1334\n",
      "120\n",
      "140\n"
     ]
    }
   ],
   "source": [
    "DATA_PATH = 'data/horse2zebra/'\n",
    "\n",
    "train_A = Images(DATA_PATH + '_trainA.tfrecords', name='trainA')\n",
    "train_B = Images(DATA_PATH + '_trainB.tfrecords', name='trainB')\n",
    "test_A = Images(DATA_PATH + '_testA.tfrecords', name='test_a')\n",
    "test_B = Images(DATA_PATH + '_testB.tfrecords', name='test_b')\n",
    "\n",
    "print(train_A.count())\n",
    "print(train_B.count())\n",
    "print(test_A.count())\n",
    "print(test_B.count())"
   ]
  },
  {
   "cell_type": "code",
   "execution_count": 17,
   "metadata": {
    "ExecuteTime": {
     "end_time": "2018-12-29T23:35:50.659870Z",
     "start_time": "2018-12-29T23:35:50.461708Z"
    }
   },
   "outputs": [
    {
     "name": "stdout",
     "output_type": "stream",
     "text": [
      "\n",
      "Checking dataset ...\n",
      "\n"
     ]
    },
    {
     "ename": "ValueError",
     "evalue": "The truth value of an array with more than one element is ambiguous. Use a.any() or a.all()",
     "output_type": "error",
     "traceback": [
      "\u001b[0;31m---------------------------------------------------------------------------\u001b[0m",
      "\u001b[0;31mValueError\u001b[0m                                Traceback (most recent call last)",
      "\u001b[0;32m<ipython-input-17-a5b092fcdcc1>\u001b[0m in \u001b[0;36m<module>\u001b[0;34m()\u001b[0m\n\u001b[1;32m      3\u001b[0m \u001b[0minit_op_a\u001b[0m\u001b[0;34m,\u001b[0m \u001b[0mnext_el_a\u001b[0m \u001b[0;34m=\u001b[0m \u001b[0mtrain_A\u001b[0m\u001b[0;34m.\u001b[0m\u001b[0mfeed\u001b[0m\u001b[0;34m(\u001b[0m\u001b[0;34m)\u001b[0m\u001b[0;34m\u001b[0m\u001b[0m\n\u001b[1;32m      4\u001b[0m \u001b[0minit_op_b\u001b[0m\u001b[0;34m,\u001b[0m \u001b[0mnext_el_b\u001b[0m \u001b[0;34m=\u001b[0m \u001b[0mtrain_B\u001b[0m\u001b[0;34m.\u001b[0m\u001b[0mfeed\u001b[0m\u001b[0;34m(\u001b[0m\u001b[0;34m)\u001b[0m\u001b[0;34m\u001b[0m\u001b[0m\n\u001b[0;32m----> 5\u001b[0;31m \u001b[0mtrain_A\u001b[0m\u001b[0;34m.\u001b[0m\u001b[0mcheck_dataset\u001b[0m\u001b[0;34m(\u001b[0m\u001b[0minit_op_a\u001b[0m\u001b[0;34m,\u001b[0m \u001b[0minit_op_b\u001b[0m\u001b[0;34m,\u001b[0m \u001b[0mnext_el_a\u001b[0m\u001b[0;34m,\u001b[0m \u001b[0mnext_el_b\u001b[0m\u001b[0;34m)\u001b[0m\u001b[0;34m\u001b[0m\u001b[0m\n\u001b[0m",
      "\u001b[0;32m~/Documents/uni-potsdam/SS2018/IM/Project/images.py\u001b[0m in \u001b[0;36mcheck_dataset\u001b[0;34m(init_a, init_b, next_a, next_b)\u001b[0m\n\u001b[1;32m     71\u001b[0m                 \u001b[0;32mfor\u001b[0m \u001b[0mi\u001b[0m \u001b[0;32min\u001b[0m \u001b[0mrange\u001b[0m\u001b[0;34m(\u001b[0m\u001b[0;36m1067\u001b[0m\u001b[0;34m)\u001b[0m\u001b[0;34m:\u001b[0m\u001b[0;34m\u001b[0m\u001b[0m\n\u001b[1;32m     72\u001b[0m                     \u001b[0mvalue_a\u001b[0m \u001b[0;34m=\u001b[0m \u001b[0msess\u001b[0m\u001b[0;34m.\u001b[0m\u001b[0mrun\u001b[0m\u001b[0;34m(\u001b[0m\u001b[0mnext_a\u001b[0m\u001b[0;34m)\u001b[0m\u001b[0;34m\u001b[0m\u001b[0m\n\u001b[0;32m---> 73\u001b[0;31m                     \u001b[0;32massert\u001b[0m \u001b[0mi\u001b[0m \u001b[0;34m==\u001b[0m \u001b[0mvalue_a\u001b[0m\u001b[0;34m\u001b[0m\u001b[0m\n\u001b[0m\u001b[1;32m     74\u001b[0m                     \u001b[0;31m# value_b = sess.run(next_b)\u001b[0m\u001b[0;34m\u001b[0m\u001b[0;34m\u001b[0m\u001b[0m\n\u001b[1;32m     75\u001b[0m                     \u001b[0;31m# assert 1334 == value_b\u001b[0m\u001b[0;34m\u001b[0m\u001b[0;34m\u001b[0m\u001b[0m\n",
      "\u001b[0;31mValueError\u001b[0m: The truth value of an array with more than one element is ambiguous. Use a.any() or a.all()"
     ]
    }
   ],
   "source": [
    "# init_op_a, next_el_a = train_A.feed()\n",
    "# train_A.check_dataset(init_op_a, next_el_a)\n",
    "init_op_a, next_el_a = train_A.feed()\n",
    "init_op_b, next_el_b = train_B.feed()\n",
    "train_A.check_dataset(init_op_a, init_op_b, next_el_a, next_el_b)"
   ]
  },
  {
   "cell_type": "code",
   "execution_count": 5,
   "metadata": {
    "ExecuteTime": {
     "end_time": "2018-11-12T16:44:58.695163Z",
     "start_time": "2018-11-12T16:44:54.278250Z"
    }
   },
   "outputs": [
    {
     "name": "stdout",
     "output_type": "stream",
     "text": [
      "\n",
      "Checking dataset ...\n",
      "\n"
     ]
    },
    {
     "data": {
      "text/plain": [
       "1334"
      ]
     },
     "execution_count": 5,
     "metadata": {},
     "output_type": "execute_result"
    }
   ],
   "source": [
    "# init_op_b, next_el_b = train_B.feed()\n",
    "# train_B.check_dataset(init_op_b, next_el_b)"
   ]
  },
  {
   "cell_type": "code",
   "execution_count": 6,
   "metadata": {
    "ExecuteTime": {
     "end_time": "2018-11-12T16:44:58.711350Z",
     "start_time": "2018-11-12T16:44:58.701704Z"
    }
   },
   "outputs": [
    {
     "data": {
      "text/plain": [
       "8.21468454200658"
      ]
     },
     "execution_count": 6,
     "metadata": {},
     "output_type": "execute_result"
    }
   ],
   "source": [
    "time.perf_counter() - start"
   ]
  },
  {
   "cell_type": "code",
   "execution_count": null,
   "metadata": {},
   "outputs": [],
   "source": []
  }
 ],
 "metadata": {
  "kernelspec": {
   "display_name": "Python 3",
   "language": "python",
   "name": "python3"
  },
  "language_info": {
   "codemirror_mode": {
    "name": "ipython",
    "version": 3
   },
   "file_extension": ".py",
   "mimetype": "text/x-python",
   "name": "python",
   "nbconvert_exporter": "python",
   "pygments_lexer": "ipython3",
   "version": "3.6.6"
  }
 },
 "nbformat": 4,
 "nbformat_minor": 2
}
